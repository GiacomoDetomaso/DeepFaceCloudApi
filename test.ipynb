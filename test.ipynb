{
 "cells": [
  {
   "cell_type": "code",
   "execution_count": 1,
   "metadata": {},
   "outputs": [
    {
     "name": "stdout",
     "output_type": "stream",
     "text": [
      "0\n",
      "1\n",
      "2\n"
     ]
    }
   ],
   "source": [
    "from azure.storage.blob import BlobServiceClient\n",
    "from azure.core.exceptions import ResourceNotFoundError\n",
    "from deepface import DeepFace\n",
    "import pickle\n",
    "\n",
    "service = BlobServiceClient.from_connection_string(\"DefaultEndpointsProtocol=https;AccountName=deepfacestorage;AccountKey=7CjfFqZTl6pK9UryXwy8fKMrdxiuAJQ9mttXhLpGSAaJzL/3KqHw7JJ7FEAboMlW5jNNm8UOQVWv+ASt7o/sNg==;EndpointSuffix=core.windows.net\")\n",
    "container = service.get_container_client('dfdb')\n",
    "\n",
    "paths = ['1-FACE.jpg', '3-FACE.jpg', '51-FACE.jpg']\n",
    "representations = []\n",
    "\n",
    "for i, path in enumerate(paths):\n",
    "    print(i)\n",
    "    rep = DeepFace.represent(img_path=path, detector_backend='ssd', model_name='Facenet')\n",
    "    representations.append(rep[0]['embedding'])"
   ]
  },
  {
   "cell_type": "code",
   "execution_count": 39,
   "metadata": {},
   "outputs": [],
   "source": [
    "picke_load = [\n",
    "    {'name': 'Bush', 'info': 'info1', 'representation': representations[1]},\n",
    "    {'name': 'Berlusconi', 'info': 'info2', 'representation': representations[2]},\n",
    "]\n",
    "\n",
    "obj = pickle.dumps(picke_load)\n",
    "\n",
    "with open('try.pkl', 'wb') as data:\n",
    "    data.write(obj)\n",
    "\n",
    "with open(data.name, 'rb') as blob_data:\n",
    "    container.upload_blob(data.name, blob_data)"
   ]
  },
  {
   "cell_type": "code",
   "execution_count": 7,
   "metadata": {},
   "outputs": [
    {
     "name": "stdout",
     "output_type": "stream",
     "text": [
      ".bush2\n"
     ]
    }
   ],
   "source": [
    "from deepface.commons import distance\n",
    "\n",
    "try:\n",
    "    obj_stream = container.download_blob('representations.pkl')\n",
    "    with open('representations.pkl', 'wb') as data:\n",
    "        data.write(obj_stream.readall())\n",
    "except ResourceNotFoundError:\n",
    "    print(\"Errore\")\n",
    "\n",
    "with open(data.name, 'rb') as picke_file:\n",
    "    obj_pick: set = pickle.loads(picke_file.read())\n",
    "\n",
    "print(obj_pick[0].info)\n"
   ]
  }
 ],
 "metadata": {
  "kernelspec": {
   "display_name": ".venv",
   "language": "python",
   "name": "python3"
  },
  "language_info": {
   "codemirror_mode": {
    "name": "ipython",
    "version": 3
   },
   "file_extension": ".py",
   "mimetype": "text/x-python",
   "name": "python",
   "nbconvert_exporter": "python",
   "pygments_lexer": "ipython3",
   "version": "3.7.8"
  },
  "orig_nbformat": 4
 },
 "nbformat": 4,
 "nbformat_minor": 2
}
